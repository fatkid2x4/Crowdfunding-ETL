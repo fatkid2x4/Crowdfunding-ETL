{
 "cells": [
  {
   "cell_type": "code",
   "execution_count": 14,
   "id": "05b1bde6",
   "metadata": {},
   "outputs": [],
   "source": [
    "# Import the json module.\n",
    "import json"
   ]
  },
  {
   "cell_type": "code",
   "execution_count": 15,
   "id": "befb1d17",
   "metadata": {},
   "outputs": [
    {
     "name": "stdout",
     "output_type": "stream",
     "text": [
      "{\"contact_id\": 4661, \"name\": \"Cecilia Velasco\", \"email\": \"cecilia.velasco@rodrigues.fr\"}\n"
     ]
    }
   ],
   "source": [
    "data = data.replace(\"'\", '\"')\n",
    "print(data)"
   ]
  },
  {
   "cell_type": "code",
   "execution_count": 16,
   "id": "61770670",
   "metadata": {},
   "outputs": [
    {
     "name": "stdout",
     "output_type": "stream",
     "text": [
      "[4661, 'Cecilia Velasco', 'cecilia.velasco@rodrigues.fr']\n"
     ]
    }
   ],
   "source": [
    "# Convert the string data to a dictionary.\n",
    "converted_data = json.loads(data)\n",
    "# Iterate through the dictionary (row) and get the values.\n",
    "row_values = [v for k, v in converted_data.items()]\n",
    "print(row_values)"
   ]
  },
  {
   "cell_type": "code",
   "execution_count": 17,
   "id": "7b847da7",
   "metadata": {},
   "outputs": [
    {
     "name": "stdout",
     "output_type": "stream",
     "text": [
      "['4661']\n"
     ]
    }
   ],
   "source": [
    "# Import the regular expression module.\n",
    "import re\n",
    "# Assign the string data to a variable. \n",
    "string_data = \"contact_id 4661 name Cecilia Velasco email cecilia.velasco@rodrigues.fr\"\n",
    "# Extract the four digit number.\n",
    "contact_id = re.findall(r'(\\d{4})', string_data)\n",
    "print(contact_id)"
   ]
  },
  {
   "cell_type": "code",
   "execution_count": null,
   "id": "532f8640",
   "metadata": {},
   "outputs": [],
   "source": []
  }
 ],
 "metadata": {
  "kernelspec": {
   "display_name": "PythonThing",
   "language": "python",
   "name": "pythonthing"
  },
  "language_info": {
   "codemirror_mode": {
    "name": "ipython",
    "version": 3
   },
   "file_extension": ".py",
   "mimetype": "text/x-python",
   "name": "python",
   "nbconvert_exporter": "python",
   "pygments_lexer": "ipython3",
   "version": "3.9.13"
  }
 },
 "nbformat": 4,
 "nbformat_minor": 5
}
